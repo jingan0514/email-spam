{
 "cells": [
  {
   "cell_type": "code",
   "execution_count": 1,
   "metadata": {},
   "outputs": [],
   "source": [
    "import os\n",
    "import re\n",
    "import random\n",
    "from collections import Counter\n",
    "from nltk.tokenize import word_tokenize\n",
    "from nltk.corpus import stopwords\n",
    "from nltk.stem import PorterStemmer\n",
    "from sklearn.feature_extraction.text import CountVectorizer\n",
    "import pandas as pd\n",
    "import matplotlib.pyplot as plt"
   ]
  },
  {
   "cell_type": "code",
   "execution_count": 2,
   "metadata": {},
   "outputs": [],
   "source": [
    "ps = PorterStemmer()\n",
    "vectorizer = CountVectorizer()\n",
    "stop_words = set(stopwords.words(\"english\"))"
   ]
  },
  {
   "cell_type": "code",
   "execution_count": 3,
   "metadata": {},
   "outputs": [],
   "source": [
    "# load file\n",
    "def load(directory):\n",
    "    file_path = []\n",
    "    for file in os.listdir(directory):\n",
    "        if file.endswith(\".txt\"):\n",
    "            path = f\"{directory}/{file}\"\n",
    "            file_path.append(path)\n",
    "    \n",
    "    return file_path"
   ]
  },
  {
   "cell_type": "code",
   "execution_count": 4,
   "metadata": {},
   "outputs": [],
   "source": [
    "# split the dataset into training data and testing data\n",
    "def seperate_train_test(file_list, ratio=0.7):\n",
    "    train = random.sample(file_list, round(len(file_list)*ratio))\n",
    "    test = [f for f in file_list if f not in train]\n",
    "\n",
    "    return train, test"
   ]
  },
  {
   "cell_type": "code",
   "execution_count": 5,
   "metadata": {},
   "outputs": [],
   "source": [
    "def clean_email(f):\n",
    "    lines = f.readlines()\n",
    "    regex_list = [r\".*-.-.-.*\", r\"Subject:.*\", r\"subject :.*\", r\"from :.*\", r\"to :.*\", r\"cc :.*\"]            \n",
    "    for r in regex_list:\n",
    "        regex = re.compile(r)\n",
    "        lines = [l for l in lines if not regex.match(l)]\n",
    "    \n",
    "    tokenized_word = []\n",
    "    for l in lines:\n",
    "        tokenized_word += word_tokenize(l.strip().lower())\n",
    "                    \n",
    "    filtered_word = []\n",
    "    for w in tokenized_word:\n",
    "        if w not in stop_words:\n",
    "            filtered_word.append(w)\n",
    "\n",
    "    regex = re.compile(r\"\\w+[^\\d+]\")\n",
    "    filtered_word = [w for w in filtered_word if regex.match(w)]\n",
    "    \n",
    "    # stem\n",
    "    stemmed_words = []\n",
    "    for w in filtered_word:\n",
    "        stemmed_words.append(ps.stem(w))\n",
    "\n",
    "    return stemmed_words"
   ]
  },
  {
   "cell_type": "code",
   "execution_count": 6,
   "metadata": {},
   "outputs": [],
   "source": [
    "def cv(file_path):\n",
    "    words = []\n",
    "    for file in file_path:\n",
    "        try:\n",
    "            with open(file) as f:\n",
    "                stemmed_words = clean_email(f)\n",
    "                words += stemmed_words\n",
    "        except:\n",
    "                pass\n",
    "\n",
    "    dictionary = Counter(words)\n",
    "    dictionary = dictionary.most_common(3000)\n",
    "    \n",
    "    common_word = []\n",
    "    for key, value in dictionary:\n",
    "        common_word.append(key)\n",
    "    \n",
    "    cv = CountVectorizer(vocabulary=common_word)\n",
    "    \n",
    "    return cv"
   ]
  },
  {
   "cell_type": "code",
   "execution_count": 7,
   "metadata": {},
   "outputs": [],
   "source": [
    "def Euclidean_represent(file_path, cv):\n",
    "    content_list = []\n",
    "    for file in file_path:\n",
    "        try:\n",
    "            with open(file) as f:\n",
    "                stemmed_words = clean_email(f)\n",
    "                content = \"\"\n",
    "\n",
    "                for w in stemmed_words:\n",
    "                    content += f\"{w} \"\n",
    "\n",
    "            content_list.append(content)\n",
    "        \n",
    "        except:\n",
    "            pass\n",
    "\n",
    "    vector = cv.fit_transform(content_list).toarray()\n",
    "    return vector"
   ]
  },
  {
   "cell_type": "code",
   "execution_count": null,
   "metadata": {},
   "outputs": [],
   "source": []
  },
  {
   "cell_type": "code",
   "execution_count": null,
   "metadata": {},
   "outputs": [],
   "source": []
  },
  {
   "cell_type": "code",
   "execution_count": 8,
   "metadata": {},
   "outputs": [],
   "source": [
    "# directory of ham and spam emails\n",
    "ham_directory = \"enron1/ham\"\n",
    "spam_directory = \"enron1/spam\"\n",
    "\n",
    "# load two kinds of emails\n",
    "ham_email = load(ham_directory)\n",
    "spam_email = load(spam_directory)\n",
    "\n",
    "# split data into train and test data\n",
    "ham_train, ham_test = seperate_train_test(ham_email)\n",
    "spam_train, spam_test = seperate_train_test(spam_email)\n",
    "\n",
    "# compute countvector \n",
    "ham_cv = cv(ham_train)\n",
    "spam_cv = cv(spam_train)"
   ]
  },
  {
   "cell_type": "code",
   "execution_count": 9,
   "metadata": {},
   "outputs": [],
   "source": [
    "# compute vector\n",
    "ham_vector = Euclidean_represent(ham_train, ham_cv)\n",
    "spam_vector = Euclidean_represent(spam_train, spam_cv)"
   ]
  },
  {
   "cell_type": "code",
   "execution_count": 10,
   "metadata": {},
   "outputs": [],
   "source": [
    "ham_test_v = Euclidean_represent(ham_test, ham_cv)\n",
    "spam_test_v = Euclidean_represent(spam_test, spam_cv)"
   ]
  },
  {
   "cell_type": "code",
   "execution_count": 11,
   "metadata": {},
   "outputs": [],
   "source": [
    "# ham test\n",
    "result_ham_1 = []\n",
    "result_ham_2 = []\n",
    "result_ham_inf = []\n",
    "for vector in ham_test_v:\n",
    "    \n",
    "    # distance to ham vector     \n",
    "    distance1_ham = []\n",
    "    distance2_ham = []\n",
    "    distance_infinite_ham = []\n",
    "    \n",
    "    for v in ham_vector:\n",
    "        \n",
    "        d1 = 0\n",
    "        d2 = 0\n",
    "        d_infinite = []\n",
    "        \n",
    "        for i in range(len(v)):\n",
    "            d1 += abs(vector[i] - v[i])\n",
    "            d2 += pow(vector[i] - v[i], 2)\n",
    "            \n",
    "            d_infinite.append(abs(vector[i] - v[i]))\n",
    "        \n",
    "        d_inf = max(d_infinite)\n",
    "            \n",
    "        distance1_ham.append(d1)\n",
    "        distance2_ham.append(d2)\n",
    "        distance_infinite_ham.append(d_inf)\n",
    "        \n",
    "    # distance to spam vector\n",
    "    distance1_spam = []\n",
    "    distance2_spam = []\n",
    "    distance_infinite_spam = []\n",
    "    \n",
    "    for v in spam_vector:\n",
    "        \n",
    "        d1 = 0\n",
    "        d2 = 0\n",
    "        d_infinite = []\n",
    "        \n",
    "        for i in range(len(v)):\n",
    "            d1 += abs(vector[i] - v[i])\n",
    "            d2 += pow(vector[i] - v[i], 2)\n",
    "            \n",
    "            d_infinite.append(abs(vector[i] - v[i]))\n",
    "        \n",
    "        d_inf = max(d_infinite)\n",
    "            \n",
    "        distance1_spam.append(d1)\n",
    "        distance2_spam.append(d2)\n",
    "        distance_infinite_spam.append(d_inf)\n",
    "\n",
    "    if min(distance1_ham) <= min(distance1_spam):\n",
    "        result_ham_1.append(\"Ham\")\n",
    "    else:\n",
    "        result_ham_1.append(\"Spam\")\n",
    "\n",
    "\n",
    "    if min(distance2_ham) <= min(distance2_spam):\n",
    "        result_ham_2.append(\"Ham\")\n",
    "    else:\n",
    "        result_ham_2.append(\"Spam\")\n",
    "\n",
    "\n",
    "    if min(distance_infinite_ham) <= min(distance_infinite_spam):\n",
    "        result_ham_inf.append(\"Ham\")\n",
    "    else:\n",
    "        result_ham_inf.append(\"Spam\")"
   ]
  },
  {
   "cell_type": "code",
   "execution_count": 12,
   "metadata": {},
   "outputs": [],
   "source": [
    "# print(result_ham_1)\n",
    "# print(result_ham_2)\n",
    "# print(result_ham_inf)"
   ]
  },
  {
   "cell_type": "code",
   "execution_count": 13,
   "metadata": {},
   "outputs": [
    {
     "ename": "KeyboardInterrupt",
     "evalue": "",
     "output_type": "error",
     "traceback": [
      "\u001b[0;31m---------------------------------------------------------------------------\u001b[0m",
      "\u001b[0;31mKeyboardInterrupt\u001b[0m                         Traceback (most recent call last)",
      "\u001b[0;32m<ipython-input-13-7db9b36dcad0>\u001b[0m in \u001b[0;36m<module>\u001b[0;34m\u001b[0m\n\u001b[1;32m     40\u001b[0m \u001b[0;34m\u001b[0m\u001b[0m\n\u001b[1;32m     41\u001b[0m         \u001b[0;32mfor\u001b[0m \u001b[0mi\u001b[0m \u001b[0;32min\u001b[0m \u001b[0mrange\u001b[0m\u001b[0;34m(\u001b[0m\u001b[0mlen\u001b[0m\u001b[0;34m(\u001b[0m\u001b[0mv\u001b[0m\u001b[0;34m)\u001b[0m\u001b[0;34m)\u001b[0m\u001b[0;34m:\u001b[0m\u001b[0;34m\u001b[0m\u001b[0;34m\u001b[0m\u001b[0m\n\u001b[0;32m---> 42\u001b[0;31m             \u001b[0md1\u001b[0m \u001b[0;34m+=\u001b[0m \u001b[0mabs\u001b[0m\u001b[0;34m(\u001b[0m\u001b[0mvector\u001b[0m\u001b[0;34m[\u001b[0m\u001b[0mi\u001b[0m\u001b[0;34m]\u001b[0m \u001b[0;34m-\u001b[0m \u001b[0mv\u001b[0m\u001b[0;34m[\u001b[0m\u001b[0mi\u001b[0m\u001b[0;34m]\u001b[0m\u001b[0;34m)\u001b[0m\u001b[0;34m\u001b[0m\u001b[0;34m\u001b[0m\u001b[0m\n\u001b[0m\u001b[1;32m     43\u001b[0m             \u001b[0md2\u001b[0m \u001b[0;34m+=\u001b[0m \u001b[0mpow\u001b[0m\u001b[0;34m(\u001b[0m\u001b[0mvector\u001b[0m\u001b[0;34m[\u001b[0m\u001b[0mi\u001b[0m\u001b[0;34m]\u001b[0m \u001b[0;34m-\u001b[0m \u001b[0mv\u001b[0m\u001b[0;34m[\u001b[0m\u001b[0mi\u001b[0m\u001b[0;34m]\u001b[0m\u001b[0;34m,\u001b[0m \u001b[0;36m2\u001b[0m\u001b[0;34m)\u001b[0m\u001b[0;34m\u001b[0m\u001b[0;34m\u001b[0m\u001b[0m\n\u001b[1;32m     44\u001b[0m \u001b[0;34m\u001b[0m\u001b[0m\n",
      "\u001b[0;31mKeyboardInterrupt\u001b[0m: "
     ]
    }
   ],
   "source": [
    "# spam test\n",
    "result_spam_1 = []\n",
    "result_spam_2 = []\n",
    "result_spam_inf = []\n",
    "for vector in spam_test_v:\n",
    "    \n",
    "    # distance to ham vector     \n",
    "    distance1_ham = []\n",
    "    distance2_ham = []\n",
    "    distance_infinite_ham = []\n",
    "    \n",
    "    for v in ham_vector:\n",
    "        \n",
    "        d1 = 0\n",
    "        d2 = 0\n",
    "        d_infinite = []\n",
    "        \n",
    "        for i in range(len(v)):\n",
    "            d1 += abs(vector[i] - v[i])\n",
    "            d2 += pow(vector[i] - v[i], 2)\n",
    "            \n",
    "            d_infinite.append(abs(vector[i] - v[i]))\n",
    "        \n",
    "        d_inf = max(d_infinite)\n",
    "            \n",
    "        distance1_ham.append(d1)\n",
    "        distance2_ham.append(d2)\n",
    "        distance_infinite_ham.append(d_inf)\n",
    "        \n",
    "    # distance to spam vector\n",
    "    distance1_spam = []\n",
    "    distance2_spam = []\n",
    "    distance_infinite_spam = []\n",
    "    \n",
    "    for v in spam_vector:\n",
    "        \n",
    "        d1 = 0\n",
    "        d2 = 0\n",
    "        d_infinite = []\n",
    "        \n",
    "        for i in range(len(v)):\n",
    "            d1 += abs(vector[i] - v[i])\n",
    "            d2 += pow(vector[i] - v[i], 2)\n",
    "            \n",
    "            d_infinite.append(abs(vector[i] - v[i]))\n",
    "        \n",
    "        d_inf = max(d_infinite)\n",
    "            \n",
    "        distance1_spam.append(d1)\n",
    "        distance2_spam.append(d2)\n",
    "        distance_infinite_spam.append(d_inf)\n",
    "\n",
    "    if min(distance1_ham) <= min(distance1_spam):\n",
    "        result_spam_1.append(\"Ham\")\n",
    "    else:\n",
    "        result_spam_1.append(\"Spam\")\n",
    "\n",
    "\n",
    "    if min(distance2_ham) <= min(distance2_spam):\n",
    "        result_spam_2.append(\"Ham\")\n",
    "    else:\n",
    "        result_spam_2.append(\"Spam\")\n",
    "\n",
    "\n",
    "    if min(distance_infinite_ham) <= min(distance_infinite_spam):\n",
    "        result_spam_inf.append(\"Ham\")\n",
    "    else:\n",
    "        result_spam_inf.append(\"Spam\")"
   ]
  },
  {
   "cell_type": "code",
   "execution_count": null,
   "metadata": {},
   "outputs": [],
   "source": [
    "# print(result_spam_1)\n",
    "# print(result_spam_2)\n",
    "# print(result_spam_inf)"
   ]
  },
  {
   "cell_type": "code",
   "execution_count": 35,
   "metadata": {},
   "outputs": [
    {
     "data": {
      "text/plain": [
       "444"
      ]
     },
     "execution_count": 35,
     "metadata": {},
     "output_type": "execute_result"
    }
   ],
   "source": [
    "len(spam_test_v)"
   ]
  },
  {
   "cell_type": "code",
   "execution_count": 23,
   "metadata": {},
   "outputs": [],
   "source": [
    "# L1\n",
    "ham_ham_1 = result_ham_1.count(\"Ham\")\n",
    "ham_spam_1 = result_ham_1.count(\"Spam\")"
   ]
  },
  {
   "cell_type": "code",
   "execution_count": 24,
   "metadata": {},
   "outputs": [],
   "source": [
    "spam_ham_1 = result_spam_1.count(\"Ham\")\n",
    "spam_spam_1 = result_spam_1.count(\"Spam\")"
   ]
  },
  {
   "cell_type": "code",
   "execution_count": 29,
   "metadata": {},
   "outputs": [
    {
     "data": {
      "text/plain": [
       "134"
      ]
     },
     "execution_count": 29,
     "metadata": {},
     "output_type": "execute_result"
    }
   ],
   "source": [
    "spam_ham_1"
   ]
  },
  {
   "cell_type": "code",
   "execution_count": 30,
   "metadata": {},
   "outputs": [
    {
     "data": {
      "text/plain": [
       "189"
      ]
     },
     "execution_count": 30,
     "metadata": {},
     "output_type": "execute_result"
    }
   ],
   "source": [
    "spam_spam_1"
   ]
  },
  {
   "cell_type": "code",
   "execution_count": 25,
   "metadata": {},
   "outputs": [],
   "source": [
    "# L2\n",
    "ham_ham_2 = result_ham_2.count(\"Ham\")\n",
    "ham_spam_2 = result_ham_2.count(\"Spam\")"
   ]
  },
  {
   "cell_type": "code",
   "execution_count": 26,
   "metadata": {},
   "outputs": [],
   "source": [
    "spam_ham_2 = result_spam_2.count(\"Ham\")\n",
    "spam_spam_2 = result_spam_2.count(\"Spam\")"
   ]
  },
  {
   "cell_type": "code",
   "execution_count": 31,
   "metadata": {},
   "outputs": [
    {
     "data": {
      "text/plain": [
       "126"
      ]
     },
     "execution_count": 31,
     "metadata": {},
     "output_type": "execute_result"
    }
   ],
   "source": [
    "spam_ham_2"
   ]
  },
  {
   "cell_type": "code",
   "execution_count": 32,
   "metadata": {},
   "outputs": [
    {
     "data": {
      "text/plain": [
       "197"
      ]
     },
     "execution_count": 32,
     "metadata": {},
     "output_type": "execute_result"
    }
   ],
   "source": [
    "spam_spam_2"
   ]
  },
  {
   "cell_type": "code",
   "execution_count": 27,
   "metadata": {},
   "outputs": [],
   "source": [
    "# L_inf\n",
    "ham_ham_inf = result_ham_inf.count(\"Ham\")\n",
    "ham_spam_inf = result_ham_inf.count(\"Spam\")"
   ]
  },
  {
   "cell_type": "code",
   "execution_count": 28,
   "metadata": {},
   "outputs": [],
   "source": [
    "spam_ham_inf = result_spam_inf.count(\"Ham\")\n",
    "spam_spam_inf = result_spam_inf.count(\"Spam\")"
   ]
  },
  {
   "cell_type": "code",
   "execution_count": 33,
   "metadata": {},
   "outputs": [
    {
     "data": {
      "text/plain": [
       "223"
      ]
     },
     "execution_count": 33,
     "metadata": {},
     "output_type": "execute_result"
    }
   ],
   "source": [
    "spam_ham_inf"
   ]
  },
  {
   "cell_type": "code",
   "execution_count": 34,
   "metadata": {},
   "outputs": [
    {
     "data": {
      "text/plain": [
       "100"
      ]
     },
     "execution_count": 34,
     "metadata": {},
     "output_type": "execute_result"
    }
   ],
   "source": [
    "spam_spam_inf"
   ]
  },
  {
   "cell_type": "code",
   "execution_count": 17,
   "metadata": {},
   "outputs": [
    {
     "data": {
      "text/plain": [
       "1058"
      ]
     },
     "execution_count": 17,
     "metadata": {},
     "output_type": "execute_result"
    }
   ],
   "source": [
    "ham_ham_1"
   ]
  },
  {
   "cell_type": "code",
   "execution_count": 18,
   "metadata": {},
   "outputs": [
    {
     "data": {
      "text/plain": [
       "44"
      ]
     },
     "execution_count": 18,
     "metadata": {},
     "output_type": "execute_result"
    }
   ],
   "source": [
    "ham_spam_1"
   ]
  },
  {
   "cell_type": "code",
   "execution_count": 19,
   "metadata": {},
   "outputs": [
    {
     "data": {
      "text/plain": [
       "1073"
      ]
     },
     "execution_count": 19,
     "metadata": {},
     "output_type": "execute_result"
    }
   ],
   "source": [
    "ham_ham_2"
   ]
  },
  {
   "cell_type": "code",
   "execution_count": 20,
   "metadata": {},
   "outputs": [
    {
     "data": {
      "text/plain": [
       "29"
      ]
     },
     "execution_count": 20,
     "metadata": {},
     "output_type": "execute_result"
    }
   ],
   "source": [
    "ham_spam_2"
   ]
  },
  {
   "cell_type": "code",
   "execution_count": 21,
   "metadata": {},
   "outputs": [
    {
     "data": {
      "text/plain": [
       "1077"
      ]
     },
     "execution_count": 21,
     "metadata": {},
     "output_type": "execute_result"
    }
   ],
   "source": [
    "ham_ham_inf"
   ]
  },
  {
   "cell_type": "code",
   "execution_count": 22,
   "metadata": {},
   "outputs": [
    {
     "data": {
      "text/plain": [
       "25"
      ]
     },
     "execution_count": 22,
     "metadata": {},
     "output_type": "execute_result"
    }
   ],
   "source": [
    "ham_spam_inf"
   ]
  },
  {
   "cell_type": "code",
   "execution_count": null,
   "metadata": {},
   "outputs": [],
   "source": []
  }
 ],
 "metadata": {
  "kernelspec": {
   "display_name": "Python [conda env:PythonData]",
   "language": "python",
   "name": "conda-env-PythonData-py"
  },
  "language_info": {
   "codemirror_mode": {
    "name": "ipython",
    "version": 3
   },
   "file_extension": ".py",
   "mimetype": "text/x-python",
   "name": "python",
   "nbconvert_exporter": "python",
   "pygments_lexer": "ipython3",
   "version": "3.6.8"
  }
 },
 "nbformat": 4,
 "nbformat_minor": 2
}
